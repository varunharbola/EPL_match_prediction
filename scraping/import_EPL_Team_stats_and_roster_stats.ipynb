{
 "cells": [
  {
   "cell_type": "code",
   "execution_count": 1,
   "metadata": {},
   "outputs": [],
   "source": [
    "from bs4 import BeautifulSoup\n",
    "import numpy as np\n",
    "import pylab as py\n",
    "import pandas as pd\n",
    "import requests\n",
    "import urllib\n",
    "import urllib.request\n",
    "import html.parser\n",
    "import requests\n",
    "from selenium import webdriver\n",
    "driver = webdriver.Chrome(r\"C:\\Users\\varun\\OneDrive\\Documents\\classes\\CS229\\Final_Project\\chromedriver.exe\")"
   ]
  },
  {
   "cell_type": "code",
   "execution_count": 2,
   "metadata": {},
   "outputs": [],
   "source": [
    "class AppURLopener(urllib.request.FancyURLopener):\n",
    "    version = \"Mozilla/5.0\""
   ]
  },
  {
   "cell_type": "code",
   "execution_count": 3,
   "metadata": {},
   "outputs": [],
   "source": [
    "# match indexing for EPL url\n",
    "i_18_19 = [38308, 38687]\n",
    "i_17_18 = [22342, 22721]\n",
    "i_16_17 = [14040, 14419]\n",
    "i_15_16 = [12115, 12494]\n",
    "i_14_15 = [9611, 9990]\n",
    "i_13_14 = [9231, 9610]\n",
    "i_12_13 = [7864, 8243]\n",
    "i_11_12 = [7467, 7846]"
   ]
  },
  {
   "cell_type": "code",
   "execution_count": 15,
   "metadata": {},
   "outputs": [
    {
     "name": "stdout",
     "output_type": "stream",
     "text": [
      "yes\n"
     ]
    }
   ],
   "source": [
    "# import html from url\n",
    "print('yes')\n",
    "url = \"https://www.premierleague.com/match/38678\"\n",
    "#stats_url = 'https://datahub.io/sports-data/english-premier-league/datapackage.json'\n",
    "team_url='https://www.whoscored.com/Teams/26/Archive/England-Liverpool'\n",
    "base_url='https://www.whoscored.com'\n",
    "\n",
    "source_code = requests.get(url)\n",
    "team_text=driver.get(team_url)\n",
    "#print(team_text)\n",
    "\n",
    "\n",
    "soup_team = BeautifulSoup(driver.page_source, 'lxml')\n",
    "#print(soup_team)\n",
    "'''\n",
    "for resource in resources:\n",
    "    if resource.tabular:\n",
    "        data = pd.read_csv(resource.descriptor['path'])\n",
    "        print (data)\n",
    "'''\n",
    "plain_text = source_code.text\n",
    "soup = BeautifulSoup(plain_text, 'html.parser')\n",
    "#print(soup)\n",
    "\n",
    "\n"
   ]
  },
  {
   "cell_type": "code",
   "execution_count": 5,
   "metadata": {},
   "outputs": [],
   "source": [
    "# generate data_ppp: data from EPL website containing (p)layer name, (p)osition, and (p)layed time\n",
    "role = ['Goalkeeper', 'Defender', 'Midfielder', 'Forward']\n",
    "data_ppp = soup.find_all('div', class_='matchLineupTeamContainer')\n",
    "match_stats=soup.find_all('div', class_='matchLineupTeamContainer')\n",
    "#print((data_ppp))\n",
    "\n",
    "\n"
   ]
  },
  {
   "cell_type": "code",
   "execution_count": 6,
   "metadata": {},
   "outputs": [
    {
     "name": "stdout",
     "output_type": "stream",
     "text": [
      "[['Mat Ryan' 'Goalkeeper' '1.0']\n",
      " ['Lewis Dunk' 'Defender' '1.0']\n",
      " ['Bruno' 'Defender' '0.9333333333333333']\n",
      " ['Bernardo' 'Defender' '1.0']\n",
      " ['Shane Duffy' 'Defender' '1.0']\n",
      " ['Yves Bissouma' 'Midfielder' '1.0']\n",
      " ['Pascal Groß' 'Midfielder' '1.0']\n",
      " ['Alireza Jahanbakhsh' 'Midfielder' '0.7444444444444445']\n",
      " ['Beram Kayal' 'Midfielder' '1.0']\n",
      " ['Anthony Knockaert' 'Midfielder' '1.0']\n",
      " ['Glenn Murray' 'Forward' '0.7444444444444445']\n",
      " ['Martín Montoya' 'Defender' '0.06666666666666667']\n",
      " ['Florin Andone' 'Forward' '0.25555555555555554']\n",
      " ['Jürgen Locadia' 'Forward' '0.25555555555555554']]\n"
     ]
    }
   ],
   "source": [
    "M_ppp = [[], []] # matrix for home & away 'ppp' information\n",
    "for team_num in range(2): # iterate over home & away teams\n",
    "    team_i = data_ppp[team_num].getText().split('\\n')\n",
    "    team_i = [element.strip() for element in team_i if (element.strip() != '' and element.strip() != 'C')]\n",
    "    # team_i now is a list: [...\"p_i uniform #\", \"p_i name\", \"p_i position\", \"##'; subbed in/out time\",\n",
    "    #                        ... \"Substitues\", \"p_sub_i uniform #\", ...]\n",
    "    i_sub = team_i.index('Substitutes') # index showing 'Substitues' header\n",
    "    team_i_11, team_i_sub = team_i[:i_sub], team_i[i_sub+1:] # distinguish between starting 11 and sub's\n",
    "    # iterate over starting 11 players\n",
    "    i_role = [0] + [i for i in range(len(team_i_11)) if team_i_11[i] in role]\n",
    "    for i in range(len(i_role)-1):\n",
    "        if i == 0: L_i = team_i_11[i_role[i]+1: i_role[i+1]+1]\n",
    "        else: L_i = team_i_11[i_role[i]+2: i_role[i+1]+1]\n",
    "        if len(L_i) == 2: # played full time\n",
    "            M_ppp[team_num].append(L_i + [1.0])\n",
    "        else: # did not play full time\n",
    "            M_ppp[team_num].append([L_i[0], L_i[2], int(L_i[1][:-1])/90.0])\n",
    "    # iterate over substitute players\n",
    "    i_role = [0] + [i for i in range(len(team_i_sub)) if team_i_sub[i] in role]\n",
    "    for i in range(len(i_role)-1):\n",
    "        if i == 0: L_i = team_i_sub[i_role[i]+1: i_role[i+1]+1]\n",
    "        else: L_i = team_i_sub[i_role[i]+2: i_role[i+1]+1]\n",
    "        if len(L_i) == 3: # sub player played\n",
    "            M_ppp[team_num].append([L_i[0], L_i[2], (90.0-int(L_i[1][:-1]))/90.0])\n",
    "H_ppp, A_ppp = np.array(M_ppp[0]), np.array(M_ppp[1])\n",
    "print(H_ppp)\n",
    "#print(A_ppp)"
   ]
  },
  {
   "cell_type": "code",
   "execution_count": 7,
   "metadata": {},
   "outputs": [],
   "source": [
    "\n",
    "#print(soup_team)\n"
   ]
  },
  {
   "cell_type": "code",
   "execution_count": 8,
   "metadata": {},
   "outputs": [
    {
     "name": "stdout",
     "output_type": "stream",
     "text": [
      "[<option value=\"16368\">Premier League - 2018/2019</option>, <option value=\"15151\">Premier League - 2017/2018</option>, <option value=\"13796\">Premier League - 2016/2017</option>, <option value=\"12496\">Premier League - 2015/2016</option>, <option value=\"9155\">Premier League - 2014/2015</option>, <option value=\"7794\">Premier League - 2013/2014</option>, <option value=\"6531\">Premier League - 2012/2013</option>, <option value=\"5476\">Premier League - 2011/2012</option>, <option value=\"4345\">Premier League - 2010/2011</option>, <option value=\"3115\">Premier League - 2009/2010</option>]\n",
      "['16368', '15151', '13796', '12496', '9155', '7794', '6531', '5476', '4345', '3115']\n"
     ]
    }
   ],
   "source": [
    "import re\n",
    "data_past_seasons=soup_team.find_all('option', string=re.compile(\"Premier\"))\n",
    "print(data_past_seasons)\n",
    "tag_lister=[]\n",
    "for option in data_past_seasons:\n",
    "    tag_lister.append(option['value'])\n",
    "print(tag_lister)\n"
   ]
  },
  {
   "cell_type": "code",
   "execution_count": 9,
   "metadata": {},
   "outputs": [
    {
     "name": "stdout",
     "output_type": "stream",
     "text": [
      "\t1  Mohamed Salah Liverpool, 27,  AM(CLR),FW   175 71 37(1)3262\t22\t8\t1\t-\t3.6\t75.9\t0.3\t8\t7.57 \n",
      "\t2  Virgil van Dijk Liverpool, 28,  D(C)   193 92 383385\t4\t2\t1\t-\t0.8\t89.7\t4.8\t4\t7.44 \n",
      "\t3  Sadio Mané Liverpool, 27,  AM(CLR),FW   175 69 35(1)3086\t22\t1\t2\t-\t2.4\t78.2\t1\t6\t7.43 \n",
      "\t4  Trent Alexander-Arnold Liverpool, 21,  D(R),M(R)   175 69 27(2)2467\t1\t12\t3\t-\t1\t77.5\t0.3\t1\t7.36 \n",
      "\t5  Roberto Firmino Liverpool, 28,  M(CLR),FW   181 76 31(3)2620\t12\t6\t-\t-\t2.2\t80.8\t0.9\t4\t7.20 \n",
      "\t6  Andrew Robertson Liverpool, 25,  D(L),M(L)   178 64 363219\t-\t11\t4\t-\t0.4\t83.2\t0.7\t1\t7.12 \n",
      "\t7  Joel Matip Liverpool, 28,  D(C)   195 90 17(5)1535\t1\t-\t3\t-\t0.4\t86.9\t3\t2\t7.11 \n",
      "\t8  Dejan Lovren Liverpool, 30,  D(C)   188 84 11(2)986\t1\t-\t1\t-\t0.5\t86.6\t4.1\t1\t7.08 \n",
      "\t9  Fabinho Liverpool, 25,  D(R),DMC   188 78 21(7)2013\t1\t2\t6\t-\t0.6\t85.3\t2\t-\t6.95 \n",
      "\t10  James Milner Liverpool, 33,  D(LR),M(CLR)   175 70 19(12)1787\t5\t4\t5\t1\t0.8\t84.6\t0.6\t1\t6.91 \n",
      "\t11  Georginio Wijnaldum Liverpool, 28,  M(CL)   175 69 32(3)2736\t3\t-\t3\t-\t0.9\t91.1\t0.9\t1\t6.89 \n",
      "\t12  Alisson Liverpool, 27,  GK   191 91 383420\t-\t-\t1\t-\t-\t80.3\t0.3\t-\t6.79 \n",
      "\t13  Joe Gomez Liverpool, 22,  D(CLR)   188 77 12(4)1060\t-\t-\t2\t-\t0.3\t87.5\t1.5\t-\t6.76 \n",
      "\t14  Naby Keita Liverpool, 24,  M(C)   172 64 16(9)1394\t2\t1\t-\t-\t1.1\t88.5\t0.4\t-\t6.74 \n",
      "\t15  Xherdan Shaqiri Liverpool, 28,  M(CLR)   169 72 11(13)1059\t6\t3\t2\t-\t1.1\t81.2\t0.1\t1\t6.71 \n",
      "\t16  Jordan Henderson Liverpool, 29,  M(CLR)   182 67 21(11)1983\t1\t3\t1\t1\t0.5\t87.2\t0.8\t-\t6.67 \n",
      "\t17  Alberto Moreno Liverpool, 27,  D(L),M(L)   171 65 2155\t-\t-\t-\t-\t0.5\t87.6\t-\t-\t6.65 \n",
      "\t18  Divock Origi Liverpool, 24,  AM(LR),FW   185 75 4(8)368\t3\t1\t-\t-\t1.1\t70.4\t0.3\t-\t6.57 \n",
      "\t19  Adam Lallana Liverpool, 31,  AM(CLR)   172 73 5(8)465\t-\t-\t1\t-\t0.4\t82.1\t0.7\t-\t6.53 \n",
      "\t20  Daniel Sturridge Liverpool, 30,  M(R),FW   188 76 4(14)500\t2\t1\t1\t-\t1\t80\t0.2\t-\t6.41 \n",
      "\t21  Alex Oxlade Chamberlain Liverpool, 26,  M(CLR)   180 70 0(2)19\t-\t-\t-\t-\t0.5\t76.9\t-\t-\t6.35 \n",
      "\t22  Nathaniel Clyne Liverpool, 28,  D(LR),M(R)   175 67 1(3)108\t-\t-\t-\t-\t0.8\t83.1\t0.3\t-\t6.29 \n",
      "\t23  Rafael Camacho Liverpool, 19,  Midfielder   175 68 0(1)1\t-\t-\t-\t-\t-\t-\t-\t-\t6.00 \n",
      "https://www.whoscored.com/Teams/26/Archive/England-Liverpool?stageId=16368#team-squad-archive-stats-summary\n",
      "\t1  Mohamed Salah Liverpool, 27,  AM(CLR),FW   175 71 37(1)3262\t22\t8\t1\t-\t3.6\t75.9\t0.3\t8\t7.57 \n",
      "\t2  Virgil van Dijk Liverpool, 28,  D(C)   193 92 383385\t4\t2\t1\t-\t0.8\t89.7\t4.8\t4\t7.44 \n",
      "\t3  Sadio Mané Liverpool, 27,  AM(CLR),FW   175 69 35(1)3086\t22\t1\t2\t-\t2.4\t78.2\t1\t6\t7.43 \n",
      "\t4  Trent Alexander-Arnold Liverpool, 21,  D(R),M(R)   175 69 27(2)2467\t1\t12\t3\t-\t1\t77.5\t0.3\t1\t7.36 \n",
      "\t5  Roberto Firmino Liverpool, 28,  M(CLR),FW   181 76 31(3)2620\t12\t6\t-\t-\t2.2\t80.8\t0.9\t4\t7.20 \n",
      "\t6  Andrew Robertson Liverpool, 25,  D(L),M(L)   178 64 363219\t-\t11\t4\t-\t0.4\t83.2\t0.7\t1\t7.12 \n",
      "\t7  Joel Matip Liverpool, 28,  D(C)   195 90 17(5)1535\t1\t-\t3\t-\t0.4\t86.9\t3\t2\t7.11 \n",
      "\t8  Dejan Lovren Liverpool, 30,  D(C)   188 84 11(2)986\t1\t-\t1\t-\t0.5\t86.6\t4.1\t1\t7.08 \n",
      "\t9  Fabinho Liverpool, 25,  D(R),DMC   188 78 21(7)2013\t1\t2\t6\t-\t0.6\t85.3\t2\t-\t6.95 \n",
      "\t10  James Milner Liverpool, 33,  D(LR),M(CLR)   175 70 19(12)1787\t5\t4\t5\t1\t0.8\t84.6\t0.6\t1\t6.91 \n",
      "\t11  Georginio Wijnaldum Liverpool, 28,  M(CL)   175 69 32(3)2736\t3\t-\t3\t-\t0.9\t91.1\t0.9\t1\t6.89 \n",
      "\t12  Alisson Liverpool, 27,  GK   191 91 383420\t-\t-\t1\t-\t-\t80.3\t0.3\t-\t6.79 \n",
      "\t13  Joe Gomez Liverpool, 22,  D(CLR)   188 77 12(4)1060\t-\t-\t2\t-\t0.3\t87.5\t1.5\t-\t6.76 \n",
      "\t14  Naby Keita Liverpool, 24,  M(C)   172 64 16(9)1394\t2\t1\t-\t-\t1.1\t88.5\t0.4\t-\t6.74 \n",
      "\t15  Xherdan Shaqiri Liverpool, 28,  M(CLR)   169 72 11(13)1059\t6\t3\t2\t-\t1.1\t81.2\t0.1\t1\t6.71 \n",
      "\t16  Jordan Henderson Liverpool, 29,  M(CLR)   182 67 21(11)1983\t1\t3\t1\t1\t0.5\t87.2\t0.8\t-\t6.67 \n",
      "\t17  Alberto Moreno Liverpool, 27,  D(L),M(L)   171 65 2155\t-\t-\t-\t-\t0.5\t87.6\t-\t-\t6.65 \n",
      "\t18  Divock Origi Liverpool, 24,  AM(LR),FW   185 75 4(8)368\t3\t1\t-\t-\t1.1\t70.4\t0.3\t-\t6.57 \n",
      "\t19  Adam Lallana Liverpool, 31,  AM(CLR)   172 73 5(8)465\t-\t-\t1\t-\t0.4\t82.1\t0.7\t-\t6.53 \n",
      "\t20  Daniel Sturridge Liverpool, 30,  M(R),FW   188 76 4(14)500\t2\t1\t1\t-\t1\t80\t0.2\t-\t6.41 \n",
      "\t21  Alex Oxlade Chamberlain Liverpool, 26,  M(CLR)   180 70 0(2)19\t-\t-\t-\t-\t0.5\t76.9\t-\t-\t6.35 \n",
      "\t22  Nathaniel Clyne Liverpool, 28,  D(LR),M(R)   175 67 1(3)108\t-\t-\t-\t-\t0.8\t83.1\t0.3\t-\t6.29 \n",
      "\t23  Rafael Camacho Liverpool, 19,  Midfielder   175 68 0(1)1\t-\t-\t-\t-\t-\t-\t-\t-\t6.00 \n",
      "https://www.whoscored.com/Teams/26/Archive/England-Liverpool?stageId=16368#team-squad-archive-stats-defensive\n",
      "\t1  Mohamed Salah Liverpool, 27,  AM(CLR),FW   175 71 37(1)3262\t22\t8\t1\t-\t3.6\t75.9\t0.3\t8\t7.57 \n",
      "\t2  Virgil van Dijk Liverpool, 28,  D(C)   193 92 383385\t4\t2\t1\t-\t0.8\t89.7\t4.8\t4\t7.44 \n",
      "\t3  Sadio Mané Liverpool, 27,  AM(CLR),FW   175 69 35(1)3086\t22\t1\t2\t-\t2.4\t78.2\t1\t6\t7.43 \n",
      "\t4  Trent Alexander-Arnold Liverpool, 21,  D(R),M(R)   175 69 27(2)2467\t1\t12\t3\t-\t1\t77.5\t0.3\t1\t7.36 \n",
      "\t5  Roberto Firmino Liverpool, 28,  M(CLR),FW   181 76 31(3)2620\t12\t6\t-\t-\t2.2\t80.8\t0.9\t4\t7.20 \n",
      "\t6  Andrew Robertson Liverpool, 25,  D(L),M(L)   178 64 363219\t-\t11\t4\t-\t0.4\t83.2\t0.7\t1\t7.12 \n",
      "\t7  Joel Matip Liverpool, 28,  D(C)   195 90 17(5)1535\t1\t-\t3\t-\t0.4\t86.9\t3\t2\t7.11 \n",
      "\t8  Dejan Lovren Liverpool, 30,  D(C)   188 84 11(2)986\t1\t-\t1\t-\t0.5\t86.6\t4.1\t1\t7.08 \n",
      "\t9  Fabinho Liverpool, 25,  D(R),DMC   188 78 21(7)2013\t1\t2\t6\t-\t0.6\t85.3\t2\t-\t6.95 \n",
      "\t10  James Milner Liverpool, 33,  D(LR),M(CLR)   175 70 19(12)1787\t5\t4\t5\t1\t0.8\t84.6\t0.6\t1\t6.91 \n",
      "\t11  Georginio Wijnaldum Liverpool, 28,  M(CL)   175 69 32(3)2736\t3\t-\t3\t-\t0.9\t91.1\t0.9\t1\t6.89 \n",
      "\t12  Alisson Liverpool, 27,  GK   191 91 383420\t-\t-\t1\t-\t-\t80.3\t0.3\t-\t6.79 \n",
      "\t13  Joe Gomez Liverpool, 22,  D(CLR)   188 77 12(4)1060\t-\t-\t2\t-\t0.3\t87.5\t1.5\t-\t6.76 \n",
      "\t14  Naby Keita Liverpool, 24,  M(C)   172 64 16(9)1394\t2\t1\t-\t-\t1.1\t88.5\t0.4\t-\t6.74 \n",
      "\t15  Xherdan Shaqiri Liverpool, 28,  M(CLR)   169 72 11(13)1059\t6\t3\t2\t-\t1.1\t81.2\t0.1\t1\t6.71 \n",
      "\t16  Jordan Henderson Liverpool, 29,  M(CLR)   182 67 21(11)1983\t1\t3\t1\t1\t0.5\t87.2\t0.8\t-\t6.67 \n",
      "\t17  Alberto Moreno Liverpool, 27,  D(L),M(L)   171 65 2155\t-\t-\t-\t-\t0.5\t87.6\t-\t-\t6.65 \n",
      "\t18  Divock Origi Liverpool, 24,  AM(LR),FW   185 75 4(8)368\t3\t1\t-\t-\t1.1\t70.4\t0.3\t-\t6.57 \n",
      "\t19  Adam Lallana Liverpool, 31,  AM(CLR)   172 73 5(8)465\t-\t-\t1\t-\t0.4\t82.1\t0.7\t-\t6.53 \n",
      "\t20  Daniel Sturridge Liverpool, 30,  M(R),FW   188 76 4(14)500\t2\t1\t1\t-\t1\t80\t0.2\t-\t6.41 \n",
      "\t21  Alex Oxlade Chamberlain Liverpool, 26,  M(CLR)   180 70 0(2)19\t-\t-\t-\t-\t0.5\t76.9\t-\t-\t6.35 \n",
      "\t22  Nathaniel Clyne Liverpool, 28,  D(LR),M(R)   175 67 1(3)108\t-\t-\t-\t-\t0.8\t83.1\t0.3\t-\t6.29 \n",
      "\t23  Rafael Camacho Liverpool, 19,  Midfielder   175 68 0(1)1\t-\t-\t-\t-\t-\t-\t-\t-\t6.00 \n",
      "https://www.whoscored.com/Teams/26/Archive/England-Liverpool?stageId=16368#team-squad-archive-stats-offensive\n",
      "\t1  Mohamed Salah Liverpool, 27,  AM(CLR),FW   175 71 37(1)3262\t22\t8\t1\t-\t3.6\t75.9\t0.3\t8\t7.57 \n",
      "\t2  Virgil van Dijk Liverpool, 28,  D(C)   193 92 383385\t4\t2\t1\t-\t0.8\t89.7\t4.8\t4\t7.44 \n",
      "\t3  Sadio Mané Liverpool, 27,  AM(CLR),FW   175 69 35(1)3086\t22\t1\t2\t-\t2.4\t78.2\t1\t6\t7.43 \n",
      "\t4  Trent Alexander-Arnold Liverpool, 21,  D(R),M(R)   175 69 27(2)2467\t1\t12\t3\t-\t1\t77.5\t0.3\t1\t7.36 \n",
      "\t5  Roberto Firmino Liverpool, 28,  M(CLR),FW   181 76 31(3)2620\t12\t6\t-\t-\t2.2\t80.8\t0.9\t4\t7.20 \n",
      "\t6  Andrew Robertson Liverpool, 25,  D(L),M(L)   178 64 363219\t-\t11\t4\t-\t0.4\t83.2\t0.7\t1\t7.12 \n",
      "\t7  Joel Matip Liverpool, 28,  D(C)   195 90 17(5)1535\t1\t-\t3\t-\t0.4\t86.9\t3\t2\t7.11 \n",
      "\t8  Dejan Lovren Liverpool, 30,  D(C)   188 84 11(2)986\t1\t-\t1\t-\t0.5\t86.6\t4.1\t1\t7.08 \n",
      "\t9  Fabinho Liverpool, 25,  D(R),DMC   188 78 21(7)2013\t1\t2\t6\t-\t0.6\t85.3\t2\t-\t6.95 \n",
      "\t10  James Milner Liverpool, 33,  D(LR),M(CLR)   175 70 19(12)1787\t5\t4\t5\t1\t0.8\t84.6\t0.6\t1\t6.91 \n",
      "\t11  Georginio Wijnaldum Liverpool, 28,  M(CL)   175 69 32(3)2736\t3\t-\t3\t-\t0.9\t91.1\t0.9\t1\t6.89 \n",
      "\t12  Alisson Liverpool, 27,  GK   191 91 383420\t-\t-\t1\t-\t-\t80.3\t0.3\t-\t6.79 \n",
      "\t13  Joe Gomez Liverpool, 22,  D(CLR)   188 77 12(4)1060\t-\t-\t2\t-\t0.3\t87.5\t1.5\t-\t6.76 \n",
      "\t14  Naby Keita Liverpool, 24,  M(C)   172 64 16(9)1394\t2\t1\t-\t-\t1.1\t88.5\t0.4\t-\t6.74 \n",
      "\t15  Xherdan Shaqiri Liverpool, 28,  M(CLR)   169 72 11(13)1059\t6\t3\t2\t-\t1.1\t81.2\t0.1\t1\t6.71 \n",
      "\t16  Jordan Henderson Liverpool, 29,  M(CLR)   182 67 21(11)1983\t1\t3\t1\t1\t0.5\t87.2\t0.8\t-\t6.67 \n",
      "\t17  Alberto Moreno Liverpool, 27,  D(L),M(L)   171 65 2155\t-\t-\t-\t-\t0.5\t87.6\t-\t-\t6.65 \n",
      "\t18  Divock Origi Liverpool, 24,  AM(LR),FW   185 75 4(8)368\t3\t1\t-\t-\t1.1\t70.4\t0.3\t-\t6.57 \n",
      "\t19  Adam Lallana Liverpool, 31,  AM(CLR)   172 73 5(8)465\t-\t-\t1\t-\t0.4\t82.1\t0.7\t-\t6.53 \n",
      "\t20  Daniel Sturridge Liverpool, 30,  M(R),FW   188 76 4(14)500\t2\t1\t1\t-\t1\t80\t0.2\t-\t6.41 \n",
      "\t21  Alex Oxlade Chamberlain Liverpool, 26,  M(CLR)   180 70 0(2)19\t-\t-\t-\t-\t0.5\t76.9\t-\t-\t6.35 \n",
      "\t22  Nathaniel Clyne Liverpool, 28,  D(LR),M(R)   175 67 1(3)108\t-\t-\t-\t-\t0.8\t83.1\t0.3\t-\t6.29 \n",
      "\t23  Rafael Camacho Liverpool, 19,  Midfielder   175 68 0(1)1\t-\t-\t-\t-\t-\t-\t-\t-\t6.00 \n",
      "https://www.whoscored.com/Teams/26/Archive/England-Liverpool?stageId=16368#team-squad-archive-stats-passing\n"
     ]
    },
    {
     "name": "stdout",
     "output_type": "stream",
     "text": [
      "\t1  Mohamed Salah Liverpool, 27,  AM(CLR),FW   175 71 37(1)3262\t22\t8\t1\t-\t3.6\t75.9\t0.3\t8\t7.57 \n",
      "\t2  Virgil van Dijk Liverpool, 28,  D(C)   193 92 383385\t4\t2\t1\t-\t0.8\t89.7\t4.8\t4\t7.44 \n",
      "\t3  Sadio Mané Liverpool, 27,  AM(CLR),FW   175 69 35(1)3086\t22\t1\t2\t-\t2.4\t78.2\t1\t6\t7.43 \n",
      "\t4  Trent Alexander-Arnold Liverpool, 21,  D(R),M(R)   175 69 27(2)2467\t1\t12\t3\t-\t1\t77.5\t0.3\t1\t7.36 \n",
      "\t5  Roberto Firmino Liverpool, 28,  M(CLR),FW   181 76 31(3)2620\t12\t6\t-\t-\t2.2\t80.8\t0.9\t4\t7.20 \n",
      "\t6  Andrew Robertson Liverpool, 25,  D(L),M(L)   178 64 363219\t-\t11\t4\t-\t0.4\t83.2\t0.7\t1\t7.12 \n",
      "\t7  Joel Matip Liverpool, 28,  D(C)   195 90 17(5)1535\t1\t-\t3\t-\t0.4\t86.9\t3\t2\t7.11 \n",
      "\t8  Dejan Lovren Liverpool, 30,  D(C)   188 84 11(2)986\t1\t-\t1\t-\t0.5\t86.6\t4.1\t1\t7.08 \n",
      "\t9  Fabinho Liverpool, 25,  D(R),DMC   188 78 21(7)2013\t1\t2\t6\t-\t0.6\t85.3\t2\t-\t6.95 \n",
      "\t10  James Milner Liverpool, 33,  D(LR),M(CLR)   175 70 19(12)1787\t5\t4\t5\t1\t0.8\t84.6\t0.6\t1\t6.91 \n",
      "\t11  Georginio Wijnaldum Liverpool, 28,  M(CL)   175 69 32(3)2736\t3\t-\t3\t-\t0.9\t91.1\t0.9\t1\t6.89 \n",
      "\t12  Alisson Liverpool, 27,  GK   191 91 383420\t-\t-\t1\t-\t-\t80.3\t0.3\t-\t6.79 \n",
      "\t13  Joe Gomez Liverpool, 22,  D(CLR)   188 77 12(4)1060\t-\t-\t2\t-\t0.3\t87.5\t1.5\t-\t6.76 \n",
      "\t14  Naby Keita Liverpool, 24,  M(C)   172 64 16(9)1394\t2\t1\t-\t-\t1.1\t88.5\t0.4\t-\t6.74 \n",
      "\t15  Xherdan Shaqiri Liverpool, 28,  M(CLR)   169 72 11(13)1059\t6\t3\t2\t-\t1.1\t81.2\t0.1\t1\t6.71 \n",
      "\t16  Jordan Henderson Liverpool, 29,  M(CLR)   182 67 21(11)1983\t1\t3\t1\t1\t0.5\t87.2\t0.8\t-\t6.67 \n",
      "\t17  Alberto Moreno Liverpool, 27,  D(L),M(L)   171 65 2155\t-\t-\t-\t-\t0.5\t87.6\t-\t-\t6.65 \n",
      "\t18  Divock Origi Liverpool, 24,  AM(LR),FW   185 75 4(8)368\t3\t1\t-\t-\t1.1\t70.4\t0.3\t-\t6.57 \n",
      "\t19  Adam Lallana Liverpool, 31,  AM(CLR)   172 73 5(8)465\t-\t-\t1\t-\t0.4\t82.1\t0.7\t-\t6.53 \n",
      "\t20  Daniel Sturridge Liverpool, 30,  M(R),FW   188 76 4(14)500\t2\t1\t1\t-\t1\t80\t0.2\t-\t6.41 \n",
      "\t21  Alex Oxlade Chamberlain Liverpool, 26,  M(CLR)   180 70 0(2)19\t-\t-\t-\t-\t0.5\t76.9\t-\t-\t6.35 \n",
      "\t22  Nathaniel Clyne Liverpool, 28,  D(LR),M(R)   175 67 1(3)108\t-\t-\t-\t-\t0.8\t83.1\t0.3\t-\t6.29 \n",
      "\t23  Rafael Camacho Liverpool, 19,  Midfielder   175 68 0(1)1\t-\t-\t-\t-\t-\t-\t-\t-\t6.00 \n",
      "https://www.whoscored.com/Teams/26/Archive/England-Liverpool?stageId=16368#team-squad-archive-stats-detailed\n"
     ]
    }
   ],
   "source": [
    "for i in range(1):\n",
    "    driver = webdriver.Chrome(r\"C:\\Users\\varun\\OneDrive\\Documents\\classes\\CS229\\Final_Project\\chromedriver.exe\")\n",
    "    url_base=\"https://www.whoscored.com/Teams/26/Archive/England-Liverpool?stageId=\"\n",
    "    url_adder=tag_lister[i]\n",
    "    historical_url=url_base+url_adder\n",
    "    historical_text=driver.get(historical_url)\n",
    "    soup_historical = BeautifulSoup(driver.page_source, 'lxml')\n",
    "    historical_table=soup_historical.find_all('a', href=True)\n",
    "\n",
    "    for player in historical_table:\n",
    "        link=player['href']\n",
    "        if link.startswith('#team'):\n",
    "            link_stats=url_base+url_adder+link\n",
    "            driver.get(link_stats)\n",
    "            \n",
    "            soup_stats=BeautifulSoup(driver.page_source, 'lxml')\n",
    "            link_players=soup_stats.find_all('a',class_='player-link')\n",
    "            stats_players=soup_stats.find_all('tr', class_=True)\n",
    "            for playerstat in stats_players:\n",
    "                print(playerstat.getText())\n",
    "            \n",
    "            print(link_stats)\n",
    "        #print(player.getText())\n",
    "        #print('\\n')\n",
    "        #print(type(player['href']))\n",
    "    driver.quit()\n",
    "        #print(player.getText())\n",
    "        #print('\\n')\n",
    "        #print(type(player['href']))\n",
    "   \n",
    "    \n",
    "    "
   ]
  },
  {
   "cell_type": "code",
   "execution_count": null,
   "metadata": {},
   "outputs": [],
   "source": [
    "match_url='https://www.whoscored.com/Matches/318365'\n",
    "driver = webdriver.Chrome(r\"C:\\Users\\varun\\OneDrive\\Documents\\classes\\CS229\\Final_Project\\chromedriver.exe\")\n",
    "match_text=driver.get(match_url)\n",
    "match_soup=BeautifulSoup(driver.page_source, 'lxml')\n",
    "match_center_list=match_soup.find_all('a', href=True, text='Match Centre')\n",
    "lineup_url= match_center_list['href']\n",
    "print(lineup_url)\n",
    "'''\n",
    "lineup_text=driver.get(lineup_url)\n",
    "lineup_soup=BeautifulSoup(driver.page_source, 'lxml')\n",
    "players=lineup_soup.find_all('div', class_='Player')\n",
    "print(players)\n",
    "'''\n",
    "\n"
   ]
  },
  {
   "cell_type": "code",
   "execution_count": null,
   "metadata": {},
   "outputs": [],
   "source": []
  }
 ],
 "metadata": {
  "kernelspec": {
   "display_name": "Python 3",
   "language": "python",
   "name": "python3"
  },
  "language_info": {
   "codemirror_mode": {
    "name": "ipython",
    "version": 3
   },
   "file_extension": ".py",
   "mimetype": "text/x-python",
   "name": "python",
   "nbconvert_exporter": "python",
   "pygments_lexer": "ipython3",
   "version": "3.7.3"
  }
 },
 "nbformat": 4,
 "nbformat_minor": 1
}
