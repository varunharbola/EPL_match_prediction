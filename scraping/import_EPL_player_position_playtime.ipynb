{
 "cells": [
  {
   "cell_type": "code",
   "execution_count": 2,
   "metadata": {},
   "outputs": [],
   "source": [
    "from bs4 import BeautifulSoup\n",
    "import numpy as np\n",
    "import pylab as py\n",
    "import pandas as pd\n",
    "import requests\n",
    "import urllib\n",
    "import urllib.request\n",
    "import html.parser\n",
    "import requests\n",
    "from selenium import webdriver\n",
    "driver = webdriver.Chrome(r\"C:\\Users\\varun\\OneDrive\\Documents\\classes\\CS229\\Final_Project\\chromedriver.exe\")"
   ]
  },
  {
   "cell_type": "code",
   "execution_count": 3,
   "metadata": {},
   "outputs": [],
   "source": [
    "class AppURLopener(urllib.request.FancyURLopener):\n",
    "    version = \"Mozilla/5.0\""
   ]
  },
  {
   "cell_type": "code",
   "execution_count": 4,
   "metadata": {},
   "outputs": [],
   "source": [
    "# match indexing for EPL url\n",
    "i_18_19 = [38308, 38687]\n",
    "i_17_18 = [22342, 22721]\n",
    "i_16_17 = [14040, 14419]\n",
    "i_15_16 = [12115, 12494]\n",
    "i_14_15 = [9611, 9990]\n",
    "i_13_14 = [9231, 9610]\n",
    "i_12_13 = [7864, 8243]\n",
    "i_11_12 = [7467, 7846]"
   ]
  },
  {
   "cell_type": "code",
   "execution_count": 7,
   "metadata": {},
   "outputs": [
    {
     "name": "stdout",
     "output_type": "stream",
     "text": [
      "yes\n"
     ]
    },
    {
     "name": "stderr",
     "output_type": "stream",
     "text": [
      "C:\\Users\\varun\\Anaconda3\\lib\\site-packages\\ipykernel_launcher.py:6: DeprecationWarning: AppURLopener style of invoking requests is deprecated. Use newer urlopen functions/methods\n",
      "  \n"
     ]
    }
   ],
   "source": [
    "# import html from url\n",
    "print('yes')\n",
    "url = \"https://www.premierleague.com/match/38678\"\n",
    "stats_url = 'https://datahub.io/sports-data/english-premier-league/datapackage.json'\n",
    "team_url='https://www.whoscored.com/Teams/26/Archive/England-Liverpool'\n",
    "opener = AppURLopener()\n",
    "source_code = requests.get(url)\n",
    "team_text=driver.get(team_url)\n",
    "#print(team_text)\n",
    "soup_team = BeautifulSoup(driver.page_source, 'lxml')\n",
    "#print(soup_team)\n",
    "'''\n",
    "for resource in resources:\n",
    "    if resource.tabular:\n",
    "        data = pd.read_csv(resource.descriptor['path'])\n",
    "        print (data)\n",
    "'''\n",
    "plain_text = source_code.text\n",
    "soup = BeautifulSoup(plain_text, 'html.parser')\n",
    "#print(soup)\n",
    "\n",
    "\n"
   ]
  },
  {
   "cell_type": "code",
   "execution_count": 8,
   "metadata": {},
   "outputs": [],
   "source": [
    "# generate data_ppp: data from EPL website containing (p)layer name, (p)osition, and (p)layed time\n",
    "role = ['Goalkeeper', 'Defender', 'Midfielder', 'Forward']\n",
    "data_ppp = soup.find_all('div', class_='matchLineupTeamContainer')\n",
    "match_stats=soup.find_all('div', class_='matchLineupTeamContainer')\n",
    "#print((data_ppp))\n",
    "\n",
    "\n"
   ]
  },
  {
   "cell_type": "code",
   "execution_count": 9,
   "metadata": {},
   "outputs": [
    {
     "name": "stdout",
     "output_type": "stream",
     "text": [
      "[['Mat Ryan' 'Goalkeeper' '1.0']\n",
      " ['Lewis Dunk' 'Defender' '1.0']\n",
      " ['Bruno' 'Defender' '0.9333333333333333']\n",
      " ['Bernardo' 'Defender' '1.0']\n",
      " ['Shane Duffy' 'Defender' '1.0']\n",
      " ['Yves Bissouma' 'Midfielder' '1.0']\n",
      " ['Pascal Groß' 'Midfielder' '1.0']\n",
      " ['Alireza Jahanbakhsh' 'Midfielder' '0.7444444444444445']\n",
      " ['Beram Kayal' 'Midfielder' '1.0']\n",
      " ['Anthony Knockaert' 'Midfielder' '1.0']\n",
      " ['Glenn Murray' 'Forward' '0.7444444444444445']\n",
      " ['Martín Montoya' 'Defender' '0.06666666666666667']\n",
      " ['Florin Andone' 'Forward' '0.25555555555555554']\n",
      " ['Jürgen Locadia' 'Forward' '0.25555555555555554']]\n"
     ]
    }
   ],
   "source": [
    "M_ppp = [[], []] # matrix for home & away 'ppp' information\n",
    "for team_num in range(2): # iterate over home & away teams\n",
    "    team_i = data_ppp[team_num].getText().split('\\n')\n",
    "    team_i = [element.strip() for element in team_i if (element.strip() != '' and element.strip() != 'C')]\n",
    "    # team_i now is a list: [...\"p_i uniform #\", \"p_i name\", \"p_i position\", \"##'; subbed in/out time\",\n",
    "    #                        ... \"Substitues\", \"p_sub_i uniform #\", ...]\n",
    "    i_sub = team_i.index('Substitutes') # index showing 'Substitues' header\n",
    "    team_i_11, team_i_sub = team_i[:i_sub], team_i[i_sub+1:] # distinguish between starting 11 and sub's\n",
    "    # iterate over starting 11 players\n",
    "    i_role = [0] + [i for i in range(len(team_i_11)) if team_i_11[i] in role]\n",
    "    for i in range(len(i_role)-1):\n",
    "        if i == 0: L_i = team_i_11[i_role[i]+1: i_role[i+1]+1]\n",
    "        else: L_i = team_i_11[i_role[i]+2: i_role[i+1]+1]\n",
    "        if len(L_i) == 2: # played full time\n",
    "            M_ppp[team_num].append(L_i + [1.0])\n",
    "        else: # did not play full time\n",
    "            M_ppp[team_num].append([L_i[0], L_i[2], int(L_i[1][:-1])/90.0])\n",
    "    # iterate over substitute players\n",
    "    i_role = [0] + [i for i in range(len(team_i_sub)) if team_i_sub[i] in role]\n",
    "    for i in range(len(i_role)-1):\n",
    "        if i == 0: L_i = team_i_sub[i_role[i]+1: i_role[i+1]+1]\n",
    "        else: L_i = team_i_sub[i_role[i]+2: i_role[i+1]+1]\n",
    "        if len(L_i) == 3: # sub player played\n",
    "            M_ppp[team_num].append([L_i[0], L_i[2], (90.0-int(L_i[1][:-1]))/90.0])\n",
    "H_ppp, A_ppp = np.array(M_ppp[0]), np.array(M_ppp[1])\n",
    "print(H_ppp)\n",
    "#print(A_ppp)"
   ]
  },
  {
   "cell_type": "code",
   "execution_count": 10,
   "metadata": {},
   "outputs": [],
   "source": [
    "\n",
    "#print(soup_team)\n"
   ]
  },
  {
   "cell_type": "code",
   "execution_count": 51,
   "metadata": {},
   "outputs": [
    {
     "name": "stdout",
     "output_type": "stream",
     "text": [
      "['16368', '15151', '13796', '12496', '9155', '7794', '6531', '5476', '4345', '3115']\n"
     ]
    }
   ],
   "source": [
    "import re\n",
    "data_past_seasons=soup_team.find_all('option',string=re.compile(\"Premier\"))\n",
    "tag_lister=[]\n",
    "i=0\n",
    "for option in data_past_seasons:\n",
    "    tag_lister.append(option['value'])\n",
    "    i+=1\n",
    "#tag_lister=[]\n",
    "#for i in range(len(data_past_seasons)):\n",
    "#   value=data_past_seasons.getText()\n",
    "    \n",
    "\n",
    "#season_values=data_past_seasons.count('Premier')\n",
    "print(tag_lister)\n",
    "\n"
   ]
  },
  {
   "cell_type": "code",
   "execution_count": 62,
   "metadata": {},
   "outputs": [
    {
     "name": "stdout",
     "output_type": "stream",
     "text": [
      "[<tbody id=\"player-table-statistics-body\"><tr class=\"\"><td style=\"vertical-align: top\">\t1</td> <td style=\"vertical-align: top\"><span class=\"ui-icon country flg-eg\"></span> </td><td class=\"pn\"><a class=\"player-link\" href=\"/Players/108226/Show/Mohamed-Salah\">Mohamed Salah </a><a class=\"player-meta-data\" href=\"/Teams/26/Show/England-Liverpool\"><span class=\"team-name\">Liverpool, </span></a><span class=\"player-meta-data\">27</span><span class=\"player-meta-data\">,  AM(CLR),FW  </span></td> <td>175</td> <td>71</td> <td>37(1)</td><td class=\"minsPlayed\">3262\t</td><td class=\"goal\">22\t</td><td class=\"assistTotal\">8\t</td><td class=\"yellowCard\">1\t</td><td class=\"redCard\">-\t</td><td class=\"shotsPerGame\">3.6\t</td><td class=\"passSuccess\">75.9\t</td><td class=\"aerialWonPerGame\">0.3\t</td><td class=\"manOfTheMatch\">8\t</td><td class=\"rating sorted\">7.57</td> </tr><tr class=\"alt\"><td style=\"vertical-align: top\">\t2</td> <td style=\"vertical-align: top\"><span class=\"ui-icon country flg-nl\"></span> </td><td class=\"pn\"><a class=\"player-link\" href=\"/Players/95408/Show/Virgil-van-Dijk\">Virgil van Dijk </a><a class=\"player-meta-data\" href=\"/Teams/26/Show/England-Liverpool\"><span class=\"team-name\">Liverpool, </span></a><span class=\"player-meta-data\">28</span><span class=\"player-meta-data\">,  D(C)  </span></td> <td>193</td> <td>92</td> <td>38</td><td class=\"minsPlayed\">3385\t</td><td class=\"goal\">4\t</td><td class=\"assistTotal\">2\t</td><td class=\"yellowCard\">1\t</td><td class=\"redCard\">-\t</td><td class=\"shotsPerGame\">0.8\t</td><td class=\"passSuccess\">89.7\t</td><td class=\"aerialWonPerGame\">4.8\t</td><td class=\"manOfTheMatch\">4\t</td><td class=\"rating sorted\">7.44</td> </tr><tr class=\"\"><td style=\"vertical-align: top\">\t3</td> <td style=\"vertical-align: top\"><span class=\"ui-icon country flg-sn\"></span> </td><td class=\"pn\"><a class=\"player-link\" href=\"/Players/109915/Show/Sadio-Mané\">Sadio Mané </a><a class=\"player-meta-data\" href=\"/Teams/26/Show/England-Liverpool\"><span class=\"team-name\">Liverpool, </span></a><span class=\"player-meta-data\">27</span><span class=\"player-meta-data\">,  AM(CLR),FW  </span></td> <td>175</td> <td>69</td> <td>35(1)</td><td class=\"minsPlayed\">3086\t</td><td class=\"goal\">22\t</td><td class=\"assistTotal\">1\t</td><td class=\"yellowCard\">2\t</td><td class=\"redCard\">-\t</td><td class=\"shotsPerGame\">2.4\t</td><td class=\"passSuccess\">78.2\t</td><td class=\"aerialWonPerGame\">1\t</td><td class=\"manOfTheMatch\">6\t</td><td class=\"rating sorted\">7.43</td> </tr><tr class=\"alt\"><td style=\"vertical-align: top\">\t4</td> <td style=\"vertical-align: top\"><span class=\"ui-icon country flg-gb-eng\"></span> </td><td class=\"pn\"><a class=\"player-link\" href=\"/Players/318871/Show/Trent-Alexander-Arnold\">Trent Alexander-Arnold </a><a class=\"player-meta-data\" href=\"/Teams/26/Show/England-Liverpool\"><span class=\"team-name\">Liverpool, </span></a><span class=\"player-meta-data\">21</span><span class=\"player-meta-data\">,  D(R),M(R)  </span></td> <td>175</td> <td>69</td> <td>27(2)</td><td class=\"minsPlayed\">2467\t</td><td class=\"goal\">1\t</td><td class=\"assistTotal\">12\t</td><td class=\"yellowCard\">3\t</td><td class=\"redCard\">-\t</td><td class=\"shotsPerGame\">1\t</td><td class=\"passSuccess\">77.5\t</td><td class=\"aerialWonPerGame\">0.3\t</td><td class=\"manOfTheMatch\">1\t</td><td class=\"rating sorted\">7.36</td> </tr><tr class=\"\"><td style=\"vertical-align: top\">\t5</td> <td style=\"vertical-align: top\"><span class=\"ui-icon country flg-br\"></span> </td><td class=\"pn\"><a class=\"player-link\" href=\"/Players/96182/Show/Roberto-Firmino\">Roberto Firmino </a><a class=\"player-meta-data\" href=\"/Teams/26/Show/England-Liverpool\"><span class=\"team-name\">Liverpool, </span></a><span class=\"player-meta-data\">28</span><span class=\"player-meta-data\">,  M(CLR),FW  </span></td> <td>181</td> <td>76</td> <td>31(3)</td><td class=\"minsPlayed\">2620\t</td><td class=\"goal\">12\t</td><td class=\"assistTotal\">6\t</td><td class=\"yellowCard\">-\t</td><td class=\"redCard\">-\t</td><td class=\"shotsPerGame\">2.2\t</td><td class=\"passSuccess\">80.8\t</td><td class=\"aerialWonPerGame\">0.9\t</td><td class=\"manOfTheMatch\">4\t</td><td class=\"rating sorted\">7.20</td> </tr><tr class=\"alt\"><td style=\"vertical-align: top\">\t6</td> <td style=\"vertical-align: top\"><span class=\"ui-icon country flg-gb-sct\"></span> </td><td class=\"pn\"><a class=\"player-link\" href=\"/Players/115726/Show/Andrew-Robertson\">Andrew Robertson </a><a class=\"player-meta-data\" href=\"/Teams/26/Show/England-Liverpool\"><span class=\"team-name\">Liverpool, </span></a><span class=\"player-meta-data\">25</span><span class=\"player-meta-data\">,  D(L),M(L)  </span></td> <td>178</td> <td>64</td> <td>36</td><td class=\"minsPlayed\">3219\t</td><td class=\"goal\">-\t</td><td class=\"assistTotal\">11\t</td><td class=\"yellowCard\">4\t</td><td class=\"redCard\">-\t</td><td class=\"shotsPerGame\">0.4\t</td><td class=\"passSuccess\">83.2\t</td><td class=\"aerialWonPerGame\">0.7\t</td><td class=\"manOfTheMatch\">1\t</td><td class=\"rating sorted\">7.12</td> </tr><tr class=\"\"><td style=\"vertical-align: top\">\t7</td> <td style=\"vertical-align: top\"><span class=\"ui-icon country flg-cm\"></span> </td><td class=\"pn\"><a class=\"player-link\" href=\"/Players/74341/Show/Joel-Matip\">Joel Matip </a><a class=\"player-meta-data\" href=\"/Teams/26/Show/England-Liverpool\"><span class=\"team-name\">Liverpool, </span></a><span class=\"player-meta-data\">28</span><span class=\"player-meta-data\">,  D(C)  </span></td> <td>195</td> <td>90</td> <td>17(5)</td><td class=\"minsPlayed\">1535\t</td><td class=\"goal\">1\t</td><td class=\"assistTotal\">-\t</td><td class=\"yellowCard\">3\t</td><td class=\"redCard\">-\t</td><td class=\"shotsPerGame\">0.4\t</td><td class=\"passSuccess\">86.9\t</td><td class=\"aerialWonPerGame\">3\t</td><td class=\"manOfTheMatch\">2\t</td><td class=\"rating sorted\">7.11</td> </tr><tr class=\"alt\"><td style=\"vertical-align: top\">\t8</td> <td style=\"vertical-align: top\"><span class=\"ui-icon country flg-hr\"></span> </td><td class=\"pn\"><a class=\"player-link\" href=\"/Players/29106/Show/Dejan-Lovren\">Dejan Lovren </a><a class=\"player-meta-data\" href=\"/Teams/26/Show/England-Liverpool\"><span class=\"team-name\">Liverpool, </span></a><span class=\"player-meta-data\">30</span><span class=\"player-meta-data\">,  D(C)  </span></td> <td>188</td> <td>84</td> <td>11(2)</td><td class=\"minsPlayed\">986\t</td><td class=\"goal\">1\t</td><td class=\"assistTotal\">-\t</td><td class=\"yellowCard\">1\t</td><td class=\"redCard\">-\t</td><td class=\"shotsPerGame\">0.5\t</td><td class=\"passSuccess\">86.6\t</td><td class=\"aerialWonPerGame\">4.1\t</td><td class=\"manOfTheMatch\">1\t</td><td class=\"rating sorted\">7.08</td> </tr><tr class=\"\"><td style=\"vertical-align: top\">\t9</td> <td style=\"vertical-align: top\"><span class=\"ui-icon country flg-br\"></span> </td><td class=\"pn\"><a class=\"player-link\" href=\"/Players/115916/Show/Fabinho\">Fabinho </a><a class=\"player-meta-data\" href=\"/Teams/26/Show/England-Liverpool\"><span class=\"team-name\">Liverpool, </span></a><span class=\"player-meta-data\">25</span><span class=\"player-meta-data\">,  D(R),DMC  </span></td> <td>188</td> <td>78</td> <td>21(7)</td><td class=\"minsPlayed\">2013\t</td><td class=\"goal\">1\t</td><td class=\"assistTotal\">2\t</td><td class=\"yellowCard\">6\t</td><td class=\"redCard\">-\t</td><td class=\"shotsPerGame\">0.6\t</td><td class=\"passSuccess\">85.3\t</td><td class=\"aerialWonPerGame\">2\t</td><td class=\"manOfTheMatch\">-\t</td><td class=\"rating sorted\">6.95</td> </tr><tr class=\"alt\"><td style=\"vertical-align: top\">\t10</td> <td style=\"vertical-align: top\"><span class=\"ui-icon country flg-gb-eng\"></span> </td><td class=\"pn\"><a class=\"player-link\" href=\"/Players/4511/Show/James-Milner\">James Milner </a><a class=\"player-meta-data\" href=\"/Teams/26/Show/England-Liverpool\"><span class=\"team-name\">Liverpool, </span></a><span class=\"player-meta-data\">33</span><span class=\"player-meta-data\">,  D(LR),M(CLR)  </span></td> <td>175</td> <td>70</td> <td>19(12)</td><td class=\"minsPlayed\">1787\t</td><td class=\"goal\">5\t</td><td class=\"assistTotal\">4\t</td><td class=\"yellowCard\">5\t</td><td class=\"redCard\">1\t</td><td class=\"shotsPerGame\">0.8\t</td><td class=\"passSuccess\">84.6\t</td><td class=\"aerialWonPerGame\">0.6\t</td><td class=\"manOfTheMatch\">1\t</td><td class=\"rating sorted\">6.91</td> </tr><tr class=\"\"><td style=\"vertical-align: top\">\t11</td> <td style=\"vertical-align: top\"><span class=\"ui-icon country flg-nl\"></span> </td><td class=\"pn\"><a class=\"player-link\" href=\"/Players/33568/Show/Georginio-Wijnaldum\">Georginio Wijnaldum </a><a class=\"player-meta-data\" href=\"/Teams/26/Show/England-Liverpool\"><span class=\"team-name\">Liverpool, </span></a><span class=\"player-meta-data\">28</span><span class=\"player-meta-data\">,  M(CL)  </span></td> <td>175</td> <td>69</td> <td>32(3)</td><td class=\"minsPlayed\">2736\t</td><td class=\"goal\">3\t</td><td class=\"assistTotal\">-\t</td><td class=\"yellowCard\">3\t</td><td class=\"redCard\">-\t</td><td class=\"shotsPerGame\">0.9\t</td><td class=\"passSuccess\">91.1\t</td><td class=\"aerialWonPerGame\">0.9\t</td><td class=\"manOfTheMatch\">1\t</td><td class=\"rating sorted\">6.89</td> </tr><tr class=\"alt\"><td style=\"vertical-align: top\">\t12</td> <td style=\"vertical-align: top\"><span class=\"ui-icon country flg-br\"></span> </td><td class=\"pn\"><a class=\"player-link\" href=\"/Players/114147/Show/Alisson\">Alisson </a><a class=\"player-meta-data\" href=\"/Teams/26/Show/England-Liverpool\"><span class=\"team-name\">Liverpool, </span></a><span class=\"player-meta-data\">27</span><span class=\"player-meta-data\">,  GK  </span></td> <td>191</td> <td>91</td> <td>38</td><td class=\"minsPlayed\">3420\t</td><td class=\"goal\">-\t</td><td class=\"assistTotal\">-\t</td><td class=\"yellowCard\">1\t</td><td class=\"redCard\">-\t</td><td class=\"shotsPerGame\">-\t</td><td class=\"passSuccess\">80.3\t</td><td class=\"aerialWonPerGame\">0.3\t</td><td class=\"manOfTheMatch\">-\t</td><td class=\"rating sorted\">6.79</td> </tr><tr class=\"\"><td style=\"vertical-align: top\">\t13</td> <td style=\"vertical-align: top\"><span class=\"ui-icon country flg-gb-eng\"></span> </td><td class=\"pn\"><a class=\"player-link\" href=\"/Players/136451/Show/Joe-Gomez\">Joe Gomez </a><a class=\"player-meta-data\" href=\"/Teams/26/Show/England-Liverpool\"><span class=\"team-name\">Liverpool, </span></a><span class=\"player-meta-data\">22</span><span class=\"player-meta-data\">,  D(CLR)  </span></td> <td>188</td> <td>77</td> <td>12(4)</td><td class=\"minsPlayed\">1060\t</td><td class=\"goal\">-\t</td><td class=\"assistTotal\">-\t</td><td class=\"yellowCard\">2\t</td><td class=\"redCard\">-\t</td><td class=\"shotsPerGame\">0.3\t</td><td class=\"passSuccess\">87.5\t</td><td class=\"aerialWonPerGame\">1.5\t</td><td class=\"manOfTheMatch\">-\t</td><td class=\"rating sorted\">6.76</td> </tr><tr class=\"alt\"><td style=\"vertical-align: top\">\t14</td> <td style=\"vertical-align: top\"><span class=\"ui-icon country flg-gn\"></span> </td><td class=\"pn\"><a class=\"player-link\" href=\"/Players/243510/Show/Naby-Keita\">Naby Keita </a><a class=\"player-meta-data\" href=\"/Teams/26/Show/England-Liverpool\"><span class=\"team-name\">Liverpool, </span></a><span class=\"player-meta-data\">24</span><span class=\"player-meta-data\">,  M(C)  </span></td> <td>172</td> <td>64</td> <td>16(9)</td><td class=\"minsPlayed\">1394\t</td><td class=\"goal\">2\t</td><td class=\"assistTotal\">1\t</td><td class=\"yellowCard\">-\t</td><td class=\"redCard\">-\t</td><td class=\"shotsPerGame\">1.1\t</td><td class=\"passSuccess\">88.5\t</td><td class=\"aerialWonPerGame\">0.4\t</td><td class=\"manOfTheMatch\">-\t</td><td class=\"rating sorted\">6.74</td> </tr><tr class=\"\"><td style=\"vertical-align: top\">\t15</td> <td style=\"vertical-align: top\"><span class=\"ui-icon country flg-ch\"></span> </td><td class=\"pn\"><a class=\"player-link\" href=\"/Players/76304/Show/Xherdan-Shaqiri\">Xherdan Shaqiri </a><a class=\"player-meta-data\" href=\"/Teams/26/Show/England-Liverpool\"><span class=\"team-name\">Liverpool, </span></a><span class=\"player-meta-data\">28</span><span class=\"player-meta-data\">,  M(CLR)  </span></td> <td>169</td> <td>72</td> <td>11(13)</td><td class=\"minsPlayed\">1059\t</td><td class=\"goal\">6\t</td><td class=\"assistTotal\">3\t</td><td class=\"yellowCard\">2\t</td><td class=\"redCard\">-\t</td><td class=\"shotsPerGame\">1.1\t</td><td class=\"passSuccess\">81.2\t</td><td class=\"aerialWonPerGame\">0.1\t</td><td class=\"manOfTheMatch\">1\t</td><td class=\"rating sorted\">6.71</td> </tr><tr class=\"alt\"><td style=\"vertical-align: top\">\t16</td> <td style=\"vertical-align: top\"><span class=\"ui-icon country flg-gb-eng\"></span> </td><td class=\"pn\"><a class=\"player-link\" href=\"/Players/68659/Show/Jordan-Henderson\">Jordan Henderson </a><a class=\"player-meta-data\" href=\"/Teams/26/Show/England-Liverpool\"><span class=\"team-name\">Liverpool, </span></a><span class=\"player-meta-data\">29</span><span class=\"player-meta-data\">,  M(CLR)  </span></td> <td>182</td> <td>67</td> <td>21(11)</td><td class=\"minsPlayed\">1983\t</td><td class=\"goal\">1\t</td><td class=\"assistTotal\">3\t</td><td class=\"yellowCard\">1\t</td><td class=\"redCard\">1\t</td><td class=\"shotsPerGame\">0.5\t</td><td class=\"passSuccess\">87.2\t</td><td class=\"aerialWonPerGame\">0.8\t</td><td class=\"manOfTheMatch\">-\t</td><td class=\"rating sorted\">6.67</td> </tr><tr class=\"not-current-player\"><td style=\"vertical-align: top\">\t17</td> <td style=\"vertical-align: top\"><span class=\"ui-icon country flg-es\"></span> </td><td class=\"pn\"><a class=\"player-link\" href=\"/Players/113275/Show/Alberto-Moreno\">Alberto Moreno </a><a class=\"player-meta-data\" href=\"/Teams/26/Show/England-Liverpool\"><span class=\"team-name\">Liverpool, </span></a><span class=\"player-meta-data\">27</span><span class=\"player-meta-data\">,  D(L),M(L)  </span></td> <td>171</td> <td>65</td> <td>2</td><td class=\"minsPlayed\">155\t</td><td class=\"goal\">-\t</td><td class=\"assistTotal\">-\t</td><td class=\"yellowCard\">-\t</td><td class=\"redCard\">-\t</td><td class=\"shotsPerGame\">0.5\t</td><td class=\"passSuccess\">87.6\t</td><td class=\"aerialWonPerGame\">-\t</td><td class=\"manOfTheMatch\">-\t</td><td class=\"rating sorted\">6.65</td> </tr><tr class=\"alt\"><td style=\"vertical-align: top\">\t18</td> <td style=\"vertical-align: top\"><span class=\"ui-icon country flg-be\"></span> </td><td class=\"pn\"><a class=\"player-link\" href=\"/Players/124688/Show/Divock-Origi\">Divock Origi </a><a class=\"player-meta-data\" href=\"/Teams/26/Show/England-Liverpool\"><span class=\"team-name\">Liverpool, </span></a><span class=\"player-meta-data\">24</span><span class=\"player-meta-data\">,  AM(LR),FW  </span></td> <td>185</td> <td>75</td> <td>4(8)</td><td class=\"minsPlayed\">368\t</td><td class=\"goal\">3\t</td><td class=\"assistTotal\">1\t</td><td class=\"yellowCard\">-\t</td><td class=\"redCard\">-\t</td><td class=\"shotsPerGame\">1.1\t</td><td class=\"passSuccess\">70.4\t</td><td class=\"aerialWonPerGame\">0.3\t</td><td class=\"manOfTheMatch\">-\t</td><td class=\"rating sorted\">6.57</td> </tr><tr class=\"\"><td style=\"vertical-align: top\">\t19</td> <td style=\"vertical-align: top\"><span class=\"ui-icon country flg-gb-eng\"></span> </td><td class=\"pn\"><a class=\"player-link\" href=\"/Players/21683/Show/Adam-Lallana\">Adam Lallana </a><a class=\"player-meta-data\" href=\"/Teams/26/Show/England-Liverpool\"><span class=\"team-name\">Liverpool, </span></a><span class=\"player-meta-data\">31</span><span class=\"player-meta-data\">,  AM(CLR)  </span></td> <td>172</td> <td>73</td> <td>5(8)</td><td class=\"minsPlayed\">465\t</td><td class=\"goal\">-\t</td><td class=\"assistTotal\">-\t</td><td class=\"yellowCard\">1\t</td><td class=\"redCard\">-\t</td><td class=\"shotsPerGame\">0.4\t</td><td class=\"passSuccess\">82.1\t</td><td class=\"aerialWonPerGame\">0.7\t</td><td class=\"manOfTheMatch\">-\t</td><td class=\"rating sorted\">6.53</td> </tr><tr class=\"alt not-current-player\"><td style=\"vertical-align: top\">\t20</td> <td style=\"vertical-align: top\"><span class=\"ui-icon country flg-gb-eng\"></span> </td><td class=\"pn\"><a class=\"player-link\" href=\"/Players/23736/Show/Daniel-Sturridge\">Daniel Sturridge </a><a class=\"player-meta-data\" href=\"/Teams/26/Show/England-Liverpool\"><span class=\"team-name\">Liverpool, </span></a><span class=\"player-meta-data\">30</span><span class=\"player-meta-data\">,  M(R),FW  </span></td> <td>188</td> <td>76</td> <td>4(14)</td><td class=\"minsPlayed\">500\t</td><td class=\"goal\">2\t</td><td class=\"assistTotal\">1\t</td><td class=\"yellowCard\">1\t</td><td class=\"redCard\">-\t</td><td class=\"shotsPerGame\">1\t</td><td class=\"passSuccess\">80\t</td><td class=\"aerialWonPerGame\">0.2\t</td><td class=\"manOfTheMatch\">-\t</td><td class=\"rating sorted\">6.41</td> </tr><tr class=\"\"><td style=\"vertical-align: top\">\t21</td> <td style=\"vertical-align: top\"><span class=\"ui-icon country flg-gb-eng\"></span> </td><td class=\"pn\"><a class=\"player-link\" href=\"/Players/84146/Show/Alex-Oxlade-Chamberlain\">Alex Oxlade Chamberlain </a><a class=\"player-meta-data\" href=\"/Teams/26/Show/England-Liverpool\"><span class=\"team-name\">Liverpool, </span></a><span class=\"player-meta-data\">26</span><span class=\"player-meta-data\">,  M(CLR)  </span></td> <td>180</td> <td>70</td> <td>0(2)</td><td class=\"minsPlayed\">19\t</td><td class=\"goal\">-\t</td><td class=\"assistTotal\">-\t</td><td class=\"yellowCard\">-\t</td><td class=\"redCard\">-\t</td><td class=\"shotsPerGame\">0.5\t</td><td class=\"passSuccess\">76.9\t</td><td class=\"aerialWonPerGame\">-\t</td><td class=\"manOfTheMatch\">-\t</td><td class=\"rating sorted\">6.35</td> </tr><tr class=\"alt\"><td style=\"vertical-align: top\">\t22</td> <td style=\"vertical-align: top\"><span class=\"ui-icon country flg-gb-eng\"></span> </td><td class=\"pn\"><a class=\"player-link\" href=\"/Players/69375/Show/Nathaniel-Clyne\">Nathaniel Clyne </a><a class=\"player-meta-data\" href=\"/Teams/26/Show/England-Liverpool\"><span class=\"team-name\">Liverpool, </span></a><span class=\"player-meta-data\">28</span><span class=\"player-meta-data\">,  D(LR),M(R)  </span></td> <td>175</td> <td>67</td> <td>1(3)</td><td class=\"minsPlayed\">108\t</td><td class=\"goal\">-\t</td><td class=\"assistTotal\">-\t</td><td class=\"yellowCard\">-\t</td><td class=\"redCard\">-\t</td><td class=\"shotsPerGame\">0.8\t</td><td class=\"passSuccess\">83.1\t</td><td class=\"aerialWonPerGame\">0.3\t</td><td class=\"manOfTheMatch\">-\t</td><td class=\"rating sorted\">6.29</td> </tr><tr class=\"not-current-player\"><td style=\"vertical-align: top\">\t23</td> <td style=\"vertical-align: top\"><span class=\"ui-icon country flg-pt\"></span> </td><td class=\"pn\"><a class=\"player-link\" href=\"/Players/355358/Show/Rafael-Camacho\">Rafael Camacho </a><a class=\"player-meta-data\" href=\"/Teams/26/Show/England-Liverpool\"><span class=\"team-name\">Liverpool, </span></a><span class=\"player-meta-data\">19</span><span class=\"player-meta-data\">,  Midfielder  </span></td> <td>175</td> <td>68</td> <td>0(1)</td><td class=\"minsPlayed\">1\t</td><td class=\"goal\">-\t</td><td class=\"assistTotal\">-\t</td><td class=\"yellowCard\">-\t</td><td class=\"redCard\">-\t</td><td class=\"shotsPerGame\">-\t</td><td class=\"passSuccess\">-\t</td><td class=\"aerialWonPerGame\">-\t</td><td class=\"manOfTheMatch\">-\t</td><td class=\"rating sorted\">6.00</td> </tr></tbody>]\n"
     ]
    }
   ],
   "source": [
    "team_history_front='https://www.whoscored.com/Teams/26/Archive/England-Liverpool?stageId='\n",
    "for i in range (1):\n",
    "    driver = webdriver.Chrome(r\"C:\\Users\\varun\\OneDrive\\Documents\\classes\\CS229\\Final_Project\\chromedriver.exe\")\n",
    "    history_url=team_history_front+tag_lister[i]\n",
    "    historical= driver.get(history_url) \n",
    "    soup_historical = BeautifulSoup(driver.page_source, 'lxml')\n",
    "    #print(soup_historical)\n",
    "    table=soup_historical.find_all('tbody', id=\"player-table-statistics-body\")\n",
    "    print(table)\n",
    "    driver.close()"
   ]
  },
  {
   "cell_type": "code",
   "execution_count": null,
   "metadata": {},
   "outputs": [],
   "source": []
  }
 ],
 "metadata": {
  "kernelspec": {
   "display_name": "Python 3",
   "language": "python",
   "name": "python3"
  },
  "language_info": {
   "codemirror_mode": {
    "name": "ipython",
    "version": 3
   },
   "file_extension": ".py",
   "mimetype": "text/x-python",
   "name": "python",
   "nbconvert_exporter": "python",
   "pygments_lexer": "ipython3",
   "version": "3.7.3"
  }
 },
 "nbformat": 4,
 "nbformat_minor": 1
}
