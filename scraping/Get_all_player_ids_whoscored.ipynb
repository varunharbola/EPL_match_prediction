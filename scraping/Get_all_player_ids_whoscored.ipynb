{
 "cells": [
  {
   "cell_type": "code",
   "execution_count": 2,
   "metadata": {},
   "outputs": [],
   "source": [
    "import requests\n",
    "from bs4 import BeautifulSoup\n",
    "import time\n",
    "import numpy as np\n",
    "import pylab as py\n",
    "import pandas as pd\n",
    "import requests\n",
    "import urllib\n",
    "import urllib.request\n",
    "import html.parser\n",
    "from selenium import webdriver\n"
   ]
  },
  {
   "cell_type": "code",
   "execution_count": 15,
   "metadata": {},
   "outputs": [],
   "source": [
    "'''\n",
    "f=open('test.txt','a+')\n",
    "listtester=['test', 'now']\n",
    "string_to_write=' '.join(listtester)\n",
    "f.write('%s\\n'%string_to_write)\n",
    "f.close()'''\n"
   ]
  },
  {
   "cell_type": "code",
   "execution_count": null,
   "metadata": {},
   "outputs": [],
   "source": [
    "base_url=\"https://www.whoscored.com/Players/\"\n",
    "f=open('player_ids.txt','a+')\n",
    "driver = webdriver.Chrome(r\"C:\\Users\\varun\\OneDrive\\Documents\\classes\\CS229\\Final_Project\\chromedriver.exe\") \n",
    "for i in range(414,9900):\n",
    "   \n",
    "    player_list=[]\n",
    "   \n",
    "    url=base_url+str(i)\n",
    "    source_code = driver.get(url)\n",
    "    #soup_text=source_code.text\n",
    "    soup = BeautifulSoup(driver.page_source, 'html.parser')\n",
    "    driver.delete_all_cookies()\n",
    "    #print(len(soup))\n",
    "    player=soup.find('meta',attrs={'name':'title'})\n",
    "    if player is not None:\n",
    "        player_list.append(player['content'].replace(' - Summary',''))\n",
    "\n",
    "\n",
    "        player_list.append(str(i))\n",
    "        writing_string=' '.join(player_list)\n",
    "        f.write('%s\\n'%writing_string)\n",
    "driver.quit()\n",
    "f.close()\n",
    "\n",
    "\n"
   ]
  },
  {
   "cell_type": "code",
   "execution_count": null,
   "metadata": {},
   "outputs": [],
   "source": []
  }
 ],
 "metadata": {
  "kernelspec": {
   "display_name": "Python 3",
   "language": "python",
   "name": "python3"
  },
  "language_info": {
   "codemirror_mode": {
    "name": "ipython",
    "version": 3
   },
   "file_extension": ".py",
   "mimetype": "text/x-python",
   "name": "python",
   "nbconvert_exporter": "python",
   "pygments_lexer": "ipython3",
   "version": "3.7.3"
  }
 },
 "nbformat": 4,
 "nbformat_minor": 2
}
